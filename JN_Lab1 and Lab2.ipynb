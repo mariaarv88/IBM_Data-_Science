{
 "cells": [
  {
   "cell_type": "code",
   "execution_count": 1,
   "id": "331c19cc-b9c2-4b4e-ae3d-dfdeb2ed4d6f",
   "metadata": {},
   "outputs": [
    {
     "data": {
      "text/plain": [
       "3"
      ]
     },
     "execution_count": 1,
     "metadata": {},
     "output_type": "execute_result"
    }
   ],
   "source": [
    "1+2"
   ]
  },
  {
   "cell_type": "code",
   "execution_count": 2,
   "id": "9a7e89ea-c95e-4f9f-addf-5c516e2c8c2e",
   "metadata": {},
   "outputs": [
    {
     "name": "stdout",
     "output_type": "stream",
     "text": [
      "20\n"
     ]
    }
   ],
   "source": [
    "x = 4\n",
    "y = 5 \n",
    "z = x*y\n",
    "print(z)"
   ]
  },
  {
   "cell_type": "markdown",
   "id": "270f54bc-f41d-4ea3-b666-31d6d6512f7c",
   "metadata": {},
   "source": [
    "This is a practise lab for Jupyter notebooks "
   ]
  },
  {
   "cell_type": "markdown",
   "id": "15e15549-5cb0-4344-9cbd-16ca5150ea28",
   "metadata": {},
   "source": [
    "__Maria__"
   ]
  },
  {
   "cell_type": "markdown",
   "id": "3ada1e0e-6b68-4a14-afc5-108b5f130410",
   "metadata": {},
   "source": [
    "## Maria"
   ]
  },
  {
   "cell_type": "code",
   "execution_count": 3,
   "id": "42abbedf-87df-4c1b-b5cc-370b5bdb6fac",
   "metadata": {},
   "outputs": [
    {
     "name": "stdout",
     "output_type": "stream",
     "text": [
      "Hello Maria\n"
     ]
    }
   ],
   "source": [
    "print('Hello Maria')"
   ]
  },
  {
   "cell_type": "code",
   "execution_count": null,
   "id": "a9bb849f-f5e1-445e-a6d1-e4ebabdba968",
   "metadata": {},
   "outputs": [],
   "source": []
  },
  {
   "cell_type": "code",
   "execution_count": null,
   "id": "a7ee91d0-4b6e-459f-b212-73ff3ed0a2cd",
   "metadata": {},
   "outputs": [],
   "source": []
  }
 ],
 "metadata": {
  "kernelspec": {
   "display_name": "Python",
   "language": "python",
   "name": "conda-env-python-py"
  },
  "language_info": {
   "codemirror_mode": {
    "name": "ipython",
    "version": 3
   },
   "file_extension": ".py",
   "mimetype": "text/x-python",
   "name": "python",
   "nbconvert_exporter": "python",
   "pygments_lexer": "ipython3",
   "version": "3.6.13"
  }
 },
 "nbformat": 4,
 "nbformat_minor": 5
}
